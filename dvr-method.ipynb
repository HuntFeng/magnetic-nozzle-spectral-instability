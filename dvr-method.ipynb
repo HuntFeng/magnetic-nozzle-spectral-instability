{
 "cells": [
  {
   "cell_type": "code",
   "execution_count": 1,
   "metadata": {},
   "outputs": [],
   "source": [
    "import numpy as np\n",
    "import matplotlib.pyplot as plt\n",
    "\n",
    "plt.rcParams[\"figure.facecolor\"] = \"white\""
   ]
  },
  {
   "cell_type": "markdown",
   "metadata": {},
   "source": [
    "Let $\\psi_n(z) = \\sin(\\frac{n\\pi}{2}(z+1)), n=1,\\cdots,N$ be the orthorgonal functions. Then the \"coordinate basis\" functions is given by\n",
    "\n",
    "$$ u_j(z) = w_j\\sum_{n=1}^N \\psi_n(z)\\psi_n^*(z_j) $$\n",
    "\n",
    "where $w_j$ is the j-th weight for the selected quadrature rule and $u_j$ satisfy the Kronecker delta property\n",
    "$$ u_j(x_k) = \\delta_{jk} $$\n",
    "\n",
    "Now the solution becomes\n",
    "$$ \\xi(z) = \\sum_{n=1}^{M} \\xi(z_j) u_j $$"
   ]
  }
 ],
 "metadata": {
  "interpreter": {
   "hash": "ad5f9d2fe14b804bc8d636d42241b8b9507a304c587028c5fa1c9c3209b35f76"
  },
  "kernelspec": {
   "display_name": "Python 3.9.5 ('base')",
   "language": "python",
   "name": "python3"
  },
  "language_info": {
   "codemirror_mode": {
    "name": "ipython",
    "version": 3
   },
   "file_extension": ".py",
   "mimetype": "text/x-python",
   "name": "python",
   "nbconvert_exporter": "python",
   "pygments_lexer": "ipython3",
   "version": "3.9.5"
  },
  "orig_nbformat": 4
 },
 "nbformat": 4,
 "nbformat_minor": 2
}

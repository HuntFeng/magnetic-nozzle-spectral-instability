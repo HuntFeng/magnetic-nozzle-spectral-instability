{
 "cells": [
  {
   "cell_type": "code",
   "execution_count": 1,
   "metadata": {},
   "outputs": [],
   "source": [
    "import numpy as np\n",
    "import matplotlib.pyplot as plt"
   ]
  },
  {
   "cell_type": "code",
   "execution_count": 4,
   "metadata": {},
   "outputs": [],
   "source": [
    "n0 = 1\n",
    "v0 = 1.5\n",
    "B0 = 1\n",
    "R = 1.5\n",
    "Bm = 1+R\n",
    "Delta = 0.1/0.3\n",
    "B = lambda z: B0*(1+R*np.exp(-(z/Delta)**2))\n",
    "B_p = lambda z: B0*R*np.exp(-(z/Delta)**2)*(-2*z/Delta**2)"
   ]
  },
  {
   "cell_type": "code",
   "execution_count": 6,
   "metadata": {},
   "outputs": [],
   "source": [
    "N = 201\n",
    "x = np.linspace(-1,1,N)\n",
    "I = np.eye(N)\n",
    "A = np.block([[v0*I,I-np.diag(B_p(x)/B(x))],[I,v0*I]])\n",
    "e,V = np.linalg.eig(A)\n",
    "omega = 1j*e"
   ]
  },
  {
   "cell_type": "code",
   "execution_count": 7,
   "metadata": {},
   "outputs": [
    {
     "data": {
      "text/plain": [
       "Text(0, 0.5, '$\\\\Im(\\\\omega)$')"
      ]
     },
     "execution_count": 7,
     "metadata": {},
     "output_type": "execute_result"
    },
    {
     "data": {
      "image/png": "[encoded data removed]",
      "text/plain": [
       "<Figure size 432x288 with 1 Axes>"
      ]
     },
     "metadata": {
      "needs_background": "light"
     },
     "output_type": "display_data"
    }
   ],
   "source": [
    "plt.figure()\n",
    "plt.plot(np.real(omega), np.imag(omega), 'o')\n",
    "plt.title(\"Phase Space\")\n",
    "plt.xlabel(\"$\\Re(\\omega)$\")\n",
    "plt.ylabel(\"$\\Im(\\omega)$\")"
   ]
  }
 ],
 "metadata": {
  "interpreter": {
   "hash": "8d4ac10d8a76e51dfac8a1fb9bf072d4ea0bbaaf05f8f56c4400c579e75b7920"
  },
  "kernelspec": {
   "display_name": "Python 3.8.12 64-bit ('plasma': conda)",
   "language": "python",
   "name": "python3"
  },
  "language_info": {
   "codemirror_mode": {
    "name": "ipython",
    "version": 3
   },
   "file_extension": ".py",
   "mimetype": "text/x-python",
   "name": "python",
   "nbconvert_exporter": "python",
   "pygments_lexer": "ipython3",
   "version": "3.8.12"
  },
  "orig_nbformat": 4
 },
 "nbformat": 4,
 "nbformat_minor": 2
}

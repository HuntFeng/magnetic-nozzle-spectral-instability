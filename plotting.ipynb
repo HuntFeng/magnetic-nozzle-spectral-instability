{
 "cells": [
  {
   "cell_type": "code",
   "execution_count": 1,
   "metadata": {},
   "outputs": [],
   "source": [
    "import matplotlib.pyplot as plt\n",
    "import json\n",
    "with open(\"mpl_config.json\") as fp:\n",
    "    config: dict = json.load(fp)\n",
    "for k,v in config.items():\n",
    "    plt.rcParams[k] = v"
   ]
  },
  {
   "cell_type": "markdown",
   "metadata": {},
   "source": [
    "# constant velocity"
   ]
  },
  {
   "cell_type": "markdown",
   "metadata": {},
   "source": [
    "# subsonic case"
   ]
  },
  {
   "cell_type": "markdown",
   "metadata": {},
   "source": [
    "#  supersonic case"
   ]
  },
  {
   "cell_type": "markdown",
   "metadata": {},
   "source": [
    "# transonic case"
   ]
  },
  {
   "cell_type": "code",
   "execution_count": null,
   "metadata": {},
   "outputs": [],
   "source": []
  }
 ],
 "metadata": {
  "kernelspec": {
   "display_name": "Python 3.9.12 ('base')",
   "language": "python",
   "name": "python3"
  },
  "language_info": {
   "codemirror_mode": {
    "name": "ipython",
    "version": 3
   },
   "file_extension": ".py",
   "mimetype": "text/x-python",
   "name": "python",
   "nbconvert_exporter": "python",
   "pygments_lexer": "ipython3",
   "version": "3.9.12"
  },
  "orig_nbformat": 4,
  "vscode": {
   "interpreter": {
    "hash": "0eae22497f2d0a547d4df728afa5ca2e01500daf8f676b1b0be9d5f32cacf0e4"
   }
  }
 },
 "nbformat": 4,
 "nbformat_minor": 2
}
